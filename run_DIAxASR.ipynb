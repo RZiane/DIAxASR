{
 "cells": [
  {
   "cell_type": "markdown",
   "id": "0bcf3558",
   "metadata": {},
   "source": [
    "# Installation des prérequis:"
   ]
  },
  {
   "cell_type": "code",
   "execution_count": null,
   "id": "7cdfa2f0",
   "metadata": {},
   "outputs": [],
   "source": [
    "!git clone https://github.com/huggingface/diarizers.git\n",
    "!pip install -e /home/ziane212/projects/MMS_ASR_finetuning/diarizers/."
   ]
  },
  {
   "cell_type": "code",
   "execution_count": null,
   "id": "4e38522c",
   "metadata": {},
   "outputs": [],
   "source": [
    "!pip install -r chemin/du/fichier/requirements.txt"
   ]
  },
  {
   "cell_type": "markdown",
   "id": "21ab3608",
   "metadata": {},
   "source": [
    "# Si usage GPU:"
   ]
  },
  {
   "cell_type": "code",
   "execution_count": null,
   "id": "508330c6",
   "metadata": {},
   "outputs": [],
   "source": [
    "import torch, gc \n",
    "\n",
    "gpu_info = !nvidia-smi\n",
    "gpu_info = '\\n'.join(gpu_info)\n",
    "if gpu_info.find('failed') >= 0:\n",
    "  print('Not connected to a GPU')\n",
    "else:\n",
    "  print(gpu_info)\n",
    "\n",
    "torch.cuda.empty_cache()\n",
    "gc.collect()"
   ]
  },
  {
   "cell_type": "markdown",
   "id": "56953535",
   "metadata": {},
   "source": [
    "# Usage par interface web:"
   ]
  },
  {
   "cell_type": "code",
   "execution_count": null,
   "id": "c57a1ddf",
   "metadata": {},
   "outputs": [],
   "source": [
    "!python interface.py"
   ]
  },
  {
   "cell_type": "markdown",
   "id": "c04bfe7e",
   "metadata": {},
   "source": [
    "### Mode de diarisation:"
   ]
  },
  {
   "cell_type": "code",
   "execution_count": null,
   "id": "256c51b9",
   "metadata": {},
   "outputs": [],
   "source": [
    "!python DIAxASR.py \\\n",
    "  --mode diarize \\\n",
    "  --wav-dir ./audio \\\n",
    "  --output-dir ./outputs \\\n",
    "  --segmentation-model-id \"pyannote/segmentation-3.0\" \\\n",
    "  --hf-token \"votre_token_hf\" \\\n",
    "  --out-format \"tsv/eaf/textgrid\""
   ]
  },
  {
   "cell_type": "markdown",
   "id": "722e1650",
   "metadata": {},
   "source": [
    "### Mode de transcription"
   ]
  },
  {
   "cell_type": "code",
   "execution_count": null,
   "id": "5a397643",
   "metadata": {},
   "outputs": [],
   "source": [
    "python DIAxASR.py \\\n",
    "  --mode transcribe \\\n",
    "  --wav-dir ./audio \\\n",
    "  --input-dir ./eaf \\\n",
    "  --output-dir ./outputs \\\n",
    "  --asr-model-id \"openai/whisper-large-v3-turbo\" \\\n",
    "  --language fr \\\n",
    "  --out-format \"tsv/eaf/textgrid\"\n"
   ]
  },
  {
   "cell_type": "markdown",
   "id": "47c3db28",
   "metadata": {},
   "source": [
    "### Mode Pipeline (diarisation + transcription)"
   ]
  },
  {
   "cell_type": "code",
   "execution_count": null,
   "id": "70cc4000",
   "metadata": {},
   "outputs": [],
   "source": [
    "!python DIAxASR.py \\\n",
    "  --mode pipeline \\\n",
    "  --wav-dir ./audio \\\n",
    "  --input-dir ./eaf \\\n",
    "  --output-dir ./outputs \\\n",
    "  --segmentation-model-id \"pyannote/segmentation-3.0\" \\\n",
    "  --hf-token \"votre_token_hf\" \\\n",
    "  --asr-model-id \"openai/whisper-large-v3-turbo\" \\\n",
    "  --language fr \\\n",
    "  --out-format \"tsv/eaf/textgrid\"\n"
   ]
  }
 ],
 "metadata": {
  "kernelspec": {
   "display_name": "DIAxASR",
   "language": "python",
   "name": "python3"
  },
  "language_info": {
   "codemirror_mode": {
    "name": "ipython",
    "version": 3
   },
   "file_extension": ".py",
   "mimetype": "text/x-python",
   "name": "python",
   "nbconvert_exporter": "python",
   "pygments_lexer": "ipython3",
   "version": "3.11.13"
  }
 },
 "nbformat": 4,
 "nbformat_minor": 5
}
