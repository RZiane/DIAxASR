{
 "cells": [
  {
   "cell_type": "code",
   "execution_count": null,
   "id": "7cdfa2f0",
   "metadata": {},
   "outputs": [],
   "source": [
    "!git clone https://github.com/huggingface/diarizers.git\n",
    "!pip install -e /home/ziane212/projects/MMS_ASR_finetuning/diarizers/."
   ]
  },
  {
   "cell_type": "code",
   "execution_count": null,
   "id": "4e38522c",
   "metadata": {},
   "outputs": [],
   "source": [
    "!pip install -r chemin/du/fichier/requirements.txt"
   ]
  },
  {
   "cell_type": "code",
   "execution_count": null,
   "id": "508330c6",
   "metadata": {},
   "outputs": [],
   "source": [
    "import torch, gc \n",
    "\n",
    "gpu_info = !nvidia-smi\n",
    "gpu_info = '\\n'.join(gpu_info)\n",
    "if gpu_info.find('failed') >= 0:\n",
    "  print('Not connected to a GPU')\n",
    "else:\n",
    "  print(gpu_info)\n",
    "\n",
    "torch.cuda.empty_cache()\n",
    "gc.collect()"
   ]
  },
  {
   "cell_type": "code",
   "execution_count": null,
   "id": "256c51b9",
   "metadata": {},
   "outputs": [],
   "source": [
    "!python /home/ziane212/projects/MMS_ASR_finetuning/DIAxASR.py \\\n",
    "    --mode diarize \\\n",
    "    --wav-dir dossier/des/fichiers/audio \\\n",
    "    --output-dir dossier/des/fichiers/de/sortie \\\n",
    "    --out-format eaf \\\n",
    "    --hf-token HuggingFace_Token \\\n",
    "    # --segmentation-model-id Rziane/dts_ESLO.06.05.25_rft.v3.CAENNAIS_exp.ft.dia.1.A_mdl "
   ]
  },
  {
   "cell_type": "code",
   "execution_count": null,
   "id": "5a397643",
   "metadata": {},
   "outputs": [],
   "source": [
    "!python /home/ziane212/projects/MMS_ASR_finetuning/DIAxASR.py \\\n",
    "    --mode transcribe \\\n",
    "    --wav-dir dossier/des/fichiers/audio \\\n",
    "    --eaf-dir dossier/des/fichiers/ELAN/en/entrée \\\n",
    "    --output-dir dossier/des/fichiers/de/sortie \\\n",
    "    # --asr-model-id Rziane/whisper-large-v3-turbo-CAENNAIS "
   ]
  },
  {
   "cell_type": "code",
   "execution_count": null,
   "id": "70cc4000",
   "metadata": {},
   "outputs": [],
   "source": [
    "!python /home/ziane212/projects/MMS_ASR_finetuning/DIAxASR.py \\\n",
    "    --mode pipeline \\\n",
    "    --wav-dir dossier/des/fichiers/audio \\\n",
    "    --output-dir dossier/des/fichiers/de/sortie \\\n",
    "    --hf-token HuggingFace_Token \\\n",
    "    # --segmentation-model-id Rziane/speaker-segmentation-ESLO-CAENNAIS28.04.25 \\\n",
    "    # --asr-model-id Rziane/whisper-large-v3-turbo-CAENNAIS "
   ]
  },
  {
   "cell_type": "code",
   "execution_count": null,
   "id": "4716331b",
   "metadata": {},
   "outputs": [],
   "source": []
  }
 ],
 "metadata": {
  "kernelspec": {
   "display_name": "DIAxASR",
   "language": "python",
   "name": "python3"
  },
  "language_info": {
   "codemirror_mode": {
    "name": "ipython",
    "version": 3
   },
   "file_extension": ".py",
   "mimetype": "text/x-python",
   "name": "python",
   "nbconvert_exporter": "python",
   "pygments_lexer": "ipython3",
   "version": "3.11.13"
  }
 },
 "nbformat": 4,
 "nbformat_minor": 5
}
